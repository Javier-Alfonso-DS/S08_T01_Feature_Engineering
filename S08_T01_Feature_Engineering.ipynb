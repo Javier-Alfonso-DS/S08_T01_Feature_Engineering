{
 "cells": [
  {
   "cell_type": "markdown",
   "metadata": {},
   "source": [
    "# S8_T01_Feature_Engineering\n",
    "# Description\n",
    "Learn how to manage parameters with Python.\n",
    "\n",
    "# Level 1\n",
    "## - Exercise 1\n",
    "Choose a dataset and standardize categorical attributes in dummy. Standardize numeric attributes with StandardScaler.\n",
    "\n",
    "# Level 2\n",
    "## - Exercise 2\n",
    "Proceed with the chosen data set and apply principal component analysis.\n",
    "\n",
    "# Level 3-Exercise 3\n",
    "Continues with the chosen data set and normalizes the data taking into account outliers.\n"
   ]
  }
 ],
 "metadata": {
  "language_info": {
   "name": "python"
  },
  "orig_nbformat": 4
 },
 "nbformat": 4,
 "nbformat_minor": 2
}
